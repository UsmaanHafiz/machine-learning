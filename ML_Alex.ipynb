{
 "cells": [
  {
   "cell_type": "code",
   "execution_count": 1,
   "metadata": {},
   "outputs": [],
   "source": [
    "import tensorflow as tf\n",
    "from tensorflow import keras\n",
    "from tensorflow.keras import layers, initializers\n",
    "from tensorflow.keras.layers import Dense, LSTM\n",
    "\n",
    "import matplotlib.pyplot as plt\n",
    "import pandas as pd\n",
    "import numpy as np\n"
   ]
  },
  {
   "cell_type": "code",
   "execution_count": 2,
   "metadata": {},
   "outputs": [],
   "source": [
    "# Read data from excel file\n",
    "\n",
    "df = pd.DataFrame(pd.read_excel('Excel data.xlsx'))"
   ]
  },
  {
   "cell_type": "code",
   "execution_count": 3,
   "metadata": {},
   "outputs": [
    {
     "data": {
      "text/html": [
       "<div>\n",
       "<style scoped>\n",
       "    .dataframe tbody tr th:only-of-type {\n",
       "        vertical-align: middle;\n",
       "    }\n",
       "\n",
       "    .dataframe tbody tr th {\n",
       "        vertical-align: top;\n",
       "    }\n",
       "\n",
       "    .dataframe thead th {\n",
       "        text-align: right;\n",
       "    }\n",
       "</style>\n",
       "<table border=\"1\" class=\"dataframe\">\n",
       "  <thead>\n",
       "    <tr style=\"text-align: right;\">\n",
       "      <th></th>\n",
       "      <th>Unnamed: 0</th>\n",
       "      <th>name</th>\n",
       "      <th>molweight</th>\n",
       "      <th>critical temperature (K)</th>\n",
       "      <th>acentric factor</th>\n",
       "      <th>boiling point (K)</th>\n",
       "      <th>Unnamed: 6</th>\n",
       "      <th>Unnamed: 7</th>\n",
       "      <th>Ratio</th>\n",
       "    </tr>\n",
       "  </thead>\n",
       "  <tbody>\n",
       "    <tr>\n",
       "      <th>6026</th>\n",
       "      <td>6136</td>\n",
       "      <td>water</td>\n",
       "      <td>18.01528</td>\n",
       "      <td>647.13</td>\n",
       "      <td>0.3449</td>\n",
       "      <td>373.15</td>\n",
       "      <td>NaN</td>\n",
       "      <td>NaN</td>\n",
       "      <td>NaN</td>\n",
       "    </tr>\n",
       "    <tr>\n",
       "      <th>6027</th>\n",
       "      <td>6137</td>\n",
       "      <td>xylenes</td>\n",
       "      <td>106.16740</td>\n",
       "      <td>620.21</td>\n",
       "      <td>0.3170</td>\n",
       "      <td>413.15</td>\n",
       "      <td>NaN</td>\n",
       "      <td>NaN</td>\n",
       "      <td>NaN</td>\n",
       "    </tr>\n",
       "    <tr>\n",
       "      <th>6028</th>\n",
       "      <td>6142</td>\n",
       "      <td>zirconium bromide</td>\n",
       "      <td>410.84000</td>\n",
       "      <td>805.00</td>\n",
       "      <td>0.3100</td>\n",
       "      <td>633.15</td>\n",
       "      <td>NaN</td>\n",
       "      <td>NaN</td>\n",
       "      <td>NaN</td>\n",
       "    </tr>\n",
       "    <tr>\n",
       "      <th>6029</th>\n",
       "      <td>6143</td>\n",
       "      <td>zirconium chloride</td>\n",
       "      <td>233.03480</td>\n",
       "      <td>778.00</td>\n",
       "      <td>0.2980</td>\n",
       "      <td>604.15</td>\n",
       "      <td>NaN</td>\n",
       "      <td>NaN</td>\n",
       "      <td>NaN</td>\n",
       "    </tr>\n",
       "    <tr>\n",
       "      <th>6030</th>\n",
       "      <td>6144</td>\n",
       "      <td>zirconium iodide</td>\n",
       "      <td>598.84188</td>\n",
       "      <td>960.00</td>\n",
       "      <td>0.3430</td>\n",
       "      <td>704.15</td>\n",
       "      <td>NaN</td>\n",
       "      <td>NaN</td>\n",
       "      <td>NaN</td>\n",
       "    </tr>\n",
       "  </tbody>\n",
       "</table>\n",
       "</div>"
      ],
      "text/plain": [
       "      Unnamed: 0                name  molweight  critical temperature (K)  \\\n",
       "6026        6136               water   18.01528                    647.13   \n",
       "6027        6137             xylenes  106.16740                    620.21   \n",
       "6028        6142   zirconium bromide  410.84000                    805.00   \n",
       "6029        6143  zirconium chloride  233.03480                    778.00   \n",
       "6030        6144    zirconium iodide  598.84188                    960.00   \n",
       "\n",
       "      acentric factor  boiling point (K)  Unnamed: 6  Unnamed: 7  Ratio  \n",
       "6026           0.3449             373.15         NaN         NaN    NaN  \n",
       "6027           0.3170             413.15         NaN         NaN    NaN  \n",
       "6028           0.3100             633.15         NaN         NaN    NaN  \n",
       "6029           0.2980             604.15         NaN         NaN    NaN  \n",
       "6030           0.3430             704.15         NaN         NaN    NaN  "
      ]
     },
     "execution_count": 3,
     "metadata": {},
     "output_type": "execute_result"
    }
   ],
   "source": [
    "#Examine Data\n",
    "\n",
    "df.tail()"
   ]
  },
  {
   "cell_type": "code",
   "execution_count": 4,
   "metadata": {},
   "outputs": [
    {
     "data": {
      "text/html": [
       "<div>\n",
       "<style scoped>\n",
       "    .dataframe tbody tr th:only-of-type {\n",
       "        vertical-align: middle;\n",
       "    }\n",
       "\n",
       "    .dataframe tbody tr th {\n",
       "        vertical-align: top;\n",
       "    }\n",
       "\n",
       "    .dataframe thead th {\n",
       "        text-align: right;\n",
       "    }\n",
       "</style>\n",
       "<table border=\"1\" class=\"dataframe\">\n",
       "  <thead>\n",
       "    <tr style=\"text-align: right;\">\n",
       "      <th></th>\n",
       "      <th>molweight</th>\n",
       "      <th>boiling point (K)</th>\n",
       "    </tr>\n",
       "  </thead>\n",
       "  <tbody>\n",
       "    <tr>\n",
       "      <th>6026</th>\n",
       "      <td>18.01528</td>\n",
       "      <td>373.15</td>\n",
       "    </tr>\n",
       "    <tr>\n",
       "      <th>6027</th>\n",
       "      <td>106.16740</td>\n",
       "      <td>413.15</td>\n",
       "    </tr>\n",
       "    <tr>\n",
       "      <th>6028</th>\n",
       "      <td>410.84000</td>\n",
       "      <td>633.15</td>\n",
       "    </tr>\n",
       "    <tr>\n",
       "      <th>6029</th>\n",
       "      <td>233.03480</td>\n",
       "      <td>604.15</td>\n",
       "    </tr>\n",
       "    <tr>\n",
       "      <th>6030</th>\n",
       "      <td>598.84188</td>\n",
       "      <td>704.15</td>\n",
       "    </tr>\n",
       "  </tbody>\n",
       "</table>\n",
       "</div>"
      ],
      "text/plain": [
       "      molweight  boiling point (K)\n",
       "6026   18.01528             373.15\n",
       "6027  106.16740             413.15\n",
       "6028  410.84000             633.15\n",
       "6029  233.03480             604.15\n",
       "6030  598.84188             704.15"
      ]
     },
     "execution_count": 4,
     "metadata": {},
     "output_type": "execute_result"
    }
   ],
   "source": [
    "#Create second dataframe with first two characteristics to examine\n",
    "\n",
    "data1 = [df['molweight'], df['boiling point (K)']]\n",
    "df_1 = pd.DataFrame(data1)\n",
    "df_1 = df_1.T\n",
    "df_1.tail()"
   ]
  },
  {
   "cell_type": "code",
   "execution_count": 5,
   "metadata": {},
   "outputs": [
    {
     "data": {
      "text/plain": [
       "Text(0.5, 1.0, 'Boiling point of compounds by molecular weight')"
      ]
     },
     "execution_count": 5,
     "metadata": {},
     "output_type": "execute_result"
    },
    {
     "data": {
      "image/png": "[encoded data removed]",
      "text/plain": [
       "<Figure size 432x288 with 1 Axes>"
      ]
     },
     "metadata": {
      "needs_background": "light"
     },
     "output_type": "display_data"
    }
   ],
   "source": [
    "#Plot BP as a function of MW, some degree of correlation although non linear\n",
    "\n",
    "plt.scatter(df_1['molweight'], df['boiling point (K)'], s=2)\n",
    "plt.xlabel('Molecular weight')\n",
    "plt.ylabel('boiling point (K)')\n",
    "plt.title('Boiling point of compounds by molecular weight')"
   ]
  },
  {
   "cell_type": "markdown",
   "metadata": {},
   "source": [
    "# ML 1, univariate regression\n"
   ]
  },
  {
   "cell_type": "code",
   "execution_count": 6,
   "metadata": {},
   "outputs": [
    {
     "data": {
      "text/html": [
       "<div>\n",
       "<style scoped>\n",
       "    .dataframe tbody tr th:only-of-type {\n",
       "        vertical-align: middle;\n",
       "    }\n",
       "\n",
       "    .dataframe tbody tr th {\n",
       "        vertical-align: top;\n",
       "    }\n",
       "\n",
       "    .dataframe thead th {\n",
       "        text-align: right;\n",
       "    }\n",
       "</style>\n",
       "<table border=\"1\" class=\"dataframe\">\n",
       "  <thead>\n",
       "    <tr style=\"text-align: right;\">\n",
       "      <th></th>\n",
       "      <th>molweight</th>\n",
       "      <th>boiling point (K)</th>\n",
       "    </tr>\n",
       "  </thead>\n",
       "  <tbody>\n",
       "    <tr>\n",
       "      <th>3436</th>\n",
       "      <td>194.360440</td>\n",
       "      <td>528.15</td>\n",
       "    </tr>\n",
       "    <tr>\n",
       "      <th>4256</th>\n",
       "      <td>54.451103</td>\n",
       "      <td>172.05</td>\n",
       "    </tr>\n",
       "    <tr>\n",
       "      <th>5838</th>\n",
       "      <td>230.821080</td>\n",
       "      <td>571.15</td>\n",
       "    </tr>\n",
       "    <tr>\n",
       "      <th>4899</th>\n",
       "      <td>98.101440</td>\n",
       "      <td>443.15</td>\n",
       "    </tr>\n",
       "    <tr>\n",
       "      <th>5404</th>\n",
       "      <td>284.482640</td>\n",
       "      <td>648.35</td>\n",
       "    </tr>\n",
       "  </tbody>\n",
       "</table>\n",
       "</div>"
      ],
      "text/plain": [
       "       molweight  boiling point (K)\n",
       "3436  194.360440             528.15\n",
       "4256   54.451103             172.05\n",
       "5838  230.821080             571.15\n",
       "4899   98.101440             443.15\n",
       "5404  284.482640             648.35"
      ]
     },
     "execution_count": 6,
     "metadata": {},
     "output_type": "execute_result"
    }
   ],
   "source": [
    "#Create a training dataset and a testing dataset (n.b. test dataset is technically a validation step, there is no test dataset)\n",
    "\n",
    "#This is done to show model is effective on data it hasn't seen yet\n",
    "\n",
    "train_dataset = df_1.sample(frac=0.8,random_state=0) #Randomises 80% of data to be used for training\n",
    "test_dataset = df_1.drop(train_dataset.index) #The remaining 20% of data is used for testing\n",
    "\n",
    "train_dataset.tail()"
   ]
  },
  {
   "cell_type": "code",
   "execution_count": 7,
   "metadata": {},
   "outputs": [],
   "source": [
    "#Cut the label 'Boiling point' and put it in two smaller datasets for training and testing\n",
    "\n",
    "train_labels = train_dataset.pop('boiling point (K)') \n",
    "test_labels = test_dataset.pop('boiling point (K)')"
   ]
  },
  {
   "cell_type": "code",
   "execution_count": 8,
   "metadata": {},
   "outputs": [],
   "source": [
    "#This is old data here, kept it in as it still works but is more basic than the following cell\n",
    "\n",
    "#def build_model():\n",
    " #   model = keras.Sequential([\n",
    "  #      layers.Dense(4, activation='relu', input_shape=[len(train_dataset.keys())]),\n",
    "   #     layers.Dense(4, activation='relu'),\n",
    "    #    layers.Dense(1)\n",
    "    #])\n",
    "    \n",
    "    #optimizer = tf.keras.optimizers.Adagrad(learning_rate=0.002)\n",
    "\n",
    "    #model.compile(loss='mse',\n",
    "     #           optimizer=optimizer,\n",
    "      #          metrics=['mae', 'mse'])\n",
    "    #return model"
   ]
  },
  {
   "cell_type": "code",
   "execution_count": 9,
   "metadata": {},
   "outputs": [],
   "source": [
    "#Constructing the model to be used\n",
    "\n",
    "def build_model():\n",
    "    \n",
    "    #Sequential model used, which is a linear stack of layers\n",
    "    model = keras.Sequential() \n",
    "    \n",
    "    #First hidden layer here, which has 3 nodes and takes 1 input (the )\n",
    "    model.add(Dense(3, input_shape=[len(train_dataset.keys())])) \n",
    "    \n",
    "    #Second hidden layer here, which also has 3 nodes. Input shape does not need to be specified. Bias is initialized as 300\n",
    "    #because this gives a better correlation (done by intuition)\n",
    "    model.add(Dense(3, bias_initializer=initializers.Constant(300)))\n",
    "\n",
    "    #Final (output) layer initialized here\n",
    "    model.add(Dense(1))\n",
    "    \n",
    "    #optimizer = tf.keras.optimizers.Adagrad(learning_rate=0.002) #This would allow the learning rate to be changed if the \n",
    "    #optimizer=optimizer is used when compiling\n",
    "    \n",
    "    #Compile the model to minimise the loss function (mean square error). Optimizer is Adam, arguably the best for most functions\n",
    "    # the learning rate does not need to be changed. Metrics are also reported, however not used to optimise loss\n",
    "    model.compile(loss='mse', optimizer='adam', metrics=['mae', 'mse']) \n",
    "\n",
    "    return model"
   ]
  },
  {
   "cell_type": "code",
   "execution_count": 10,
   "metadata": {},
   "outputs": [],
   "source": [
    "model = build_model()"
   ]
  },
  {
   "cell_type": "code",
   "execution_count": 11,
   "metadata": {},
   "outputs": [
    {
     "name": "stdout",
     "output_type": "stream",
     "text": [
      "WARNING:tensorflow:Falling back from v2 loop because of error: Failed to find data adapter that can handle input: <class 'pandas.core.frame.DataFrame'>, <class 'NoneType'>\n",
      "\n",
      "...................."
     ]
    }
   ],
   "source": [
    "# Display training progress by printing a single dot for each completed epoch\n",
    "class PrintDot(keras.callbacks.Callback):\n",
    "  def on_epoch_end(self, epoch, logs):\n",
    "    if epoch % 100 == 0: print('')\n",
    "    print('.', end='')\n",
    "\n",
    "EPOCHS = 20\n",
    "\n",
    "#Fits the training dataset (just MW here) to the training labels (BP)\n",
    "\n",
    "history = model.fit(\n",
    "  train_dataset, train_labels,\n",
    "    batch_size=5, #Number of samples per batch. more = quicker\n",
    "    epochs=EPOCHS, #Number of iterations. More can mean a more accurate model, at the cost of training time\n",
    "    validation_split = 0.2,\n",
    "    verbose=0, #Changed to 0 here to prevent data spooling out\n",
    "  callbacks=[PrintDot()])"
   ]
  },
  {
   "cell_type": "code",
   "execution_count": 12,
   "metadata": {},
   "outputs": [
    {
     "data": {
      "text/html": [
       "<div>\n",
       "<style scoped>\n",
       "    .dataframe tbody tr th:only-of-type {\n",
       "        vertical-align: middle;\n",
       "    }\n",
       "\n",
       "    .dataframe tbody tr th {\n",
       "        vertical-align: top;\n",
       "    }\n",
       "\n",
       "    .dataframe thead th {\n",
       "        text-align: right;\n",
       "    }\n",
       "</style>\n",
       "<table border=\"1\" class=\"dataframe\">\n",
       "  <thead>\n",
       "    <tr style=\"text-align: right;\">\n",
       "      <th></th>\n",
       "      <th>loss</th>\n",
       "      <th>mae</th>\n",
       "      <th>mse</th>\n",
       "      <th>val_loss</th>\n",
       "      <th>val_mae</th>\n",
       "      <th>val_mse</th>\n",
       "      <th>epoch</th>\n",
       "    </tr>\n",
       "  </thead>\n",
       "  <tbody>\n",
       "    <tr>\n",
       "      <th>15</th>\n",
       "      <td>3791.898266</td>\n",
       "      <td>43.731709</td>\n",
       "      <td>3791.900879</td>\n",
       "      <td>3762.019295</td>\n",
       "      <td>43.701092</td>\n",
       "      <td>3762.019775</td>\n",
       "      <td>15</td>\n",
       "    </tr>\n",
       "    <tr>\n",
       "      <th>16</th>\n",
       "      <td>3790.025211</td>\n",
       "      <td>43.670460</td>\n",
       "      <td>3790.024658</td>\n",
       "      <td>3743.015911</td>\n",
       "      <td>43.249084</td>\n",
       "      <td>3743.016357</td>\n",
       "      <td>16</td>\n",
       "    </tr>\n",
       "    <tr>\n",
       "      <th>17</th>\n",
       "      <td>3784.523270</td>\n",
       "      <td>43.593872</td>\n",
       "      <td>3784.526123</td>\n",
       "      <td>3824.074924</td>\n",
       "      <td>44.463985</td>\n",
       "      <td>3824.076172</td>\n",
       "      <td>17</td>\n",
       "    </tr>\n",
       "    <tr>\n",
       "      <th>18</th>\n",
       "      <td>3797.246847</td>\n",
       "      <td>43.779045</td>\n",
       "      <td>3797.246582</td>\n",
       "      <td>3780.809593</td>\n",
       "      <td>43.885605</td>\n",
       "      <td>3780.809570</td>\n",
       "      <td>18</td>\n",
       "    </tr>\n",
       "    <tr>\n",
       "      <th>19</th>\n",
       "      <td>3808.620732</td>\n",
       "      <td>43.850491</td>\n",
       "      <td>3808.620361</td>\n",
       "      <td>3755.351697</td>\n",
       "      <td>43.571835</td>\n",
       "      <td>3755.351562</td>\n",
       "      <td>19</td>\n",
       "    </tr>\n",
       "  </tbody>\n",
       "</table>\n",
       "</div>"
      ],
      "text/plain": [
       "           loss        mae          mse     val_loss    val_mae      val_mse  \\\n",
       "15  3791.898266  43.731709  3791.900879  3762.019295  43.701092  3762.019775   \n",
       "16  3790.025211  43.670460  3790.024658  3743.015911  43.249084  3743.016357   \n",
       "17  3784.523270  43.593872  3784.526123  3824.074924  44.463985  3824.076172   \n",
       "18  3797.246847  43.779045  3797.246582  3780.809593  43.885605  3780.809570   \n",
       "19  3808.620732  43.850491  3808.620361  3755.351697  43.571835  3755.351562   \n",
       "\n",
       "    epoch  \n",
       "15     15  \n",
       "16     16  \n",
       "17     17  \n",
       "18     18  \n",
       "19     19  "
      ]
     },
     "execution_count": 12,
     "metadata": {},
     "output_type": "execute_result"
    }
   ],
   "source": [
    "#Place iteration data into a dataframe (used to plot graphs)\n",
    "\n",
    "hist = pd.DataFrame(history.history)\n",
    "hist['epoch'] = history.epoch\n",
    "hist.tail()"
   ]
  },
  {
   "cell_type": "code",
   "execution_count": 15,
   "metadata": {},
   "outputs": [
    {
     "data": {
      "image/png": "[encoded data removed]",
      "text/plain": [
       "<Figure size 432x288 with 1 Axes>"
      ]
     },
     "metadata": {
      "needs_background": "light"
     },
     "output_type": "display_data"
    },
    {
     "data": {
      "image/png": "[encoded data removed]",
      "text/plain": [
       "<Figure size 432x288 with 1 Axes>"
      ]
     },
     "metadata": {
      "needs_background": "light"
     },
     "output_type": "display_data"
    }
   ],
   "source": [
    "#Plotting to examine error. Note formula needs to change if doing multi or univariate excersise\n",
    "\n",
    "def plot_history(history):\n",
    "    hist = pd.DataFrame(history.history)\n",
    "    hist['epoch'] = history.epoch\n",
    "\n",
    "    plt.figure()\n",
    "    plt.xlabel('Epoch')\n",
    "    plt.ylabel('Mean Abs Error')\n",
    "    plt.scatter(hist['epoch'], hist['mae'],\n",
    "           label='Train Error',\n",
    "               s=1)\n",
    "    plt.scatter(hist['epoch'], hist['val_mae'],\n",
    "           label = 'Val Error',\n",
    "               s=1)\n",
    "    #plt.ylim([0,0.03]) #Comment this out if running univaiate\n",
    "    plt.legend()\n",
    "\n",
    "    plt.figure()\n",
    "    plt.xlabel('Epoch')\n",
    "    plt.ylabel('Mean Square Error')\n",
    "    plt.scatter(hist['epoch'], hist['mse'],\n",
    "           label='Train Error',\n",
    "               s=1)\n",
    "    plt.scatter(hist['epoch'], hist['val_mse'],\n",
    "           label = 'Val Error',\n",
    "               s=1)\n",
    "    #plt.ylim([0,0.2]) #Comment this out if running univaiate\n",
    "    plt.legend()\n",
    "    plt.show()\n",
    "\n",
    "\n",
    "plot_history(history)"
   ]
  },
  {
   "cell_type": "code",
   "execution_count": 158,
   "metadata": {},
   "outputs": [
    {
     "name": "stdout",
     "output_type": "stream",
     "text": [
      "WARNING:tensorflow:Falling back from v2 loop because of error: Failed to find data adapter that can handle input: <class 'pandas.core.frame.DataFrame'>, <class 'NoneType'>\n",
      "WARNING:tensorflow:Falling back from v2 loop because of error: Failed to find data adapter that can handle input: <class 'pandas.core.series.Series'>, <class 'NoneType'>\n"
     ]
    }
   ],
   "source": [
    "#generate predictions, first from the test (validation) sample and then the entire sample\n",
    "\n",
    "test_predictions = model.predict(test_dataset).flatten()\n",
    "test_pred_full = model.predict(df['molweight']).flatten()"
   ]
  },
  {
   "cell_type": "code",
   "execution_count": 28,
   "metadata": {},
   "outputs": [],
   "source": [
    "#Function for plotting graphs \n",
    "\n",
    "def do_graphs(test_labels, test_predictions, test_dataset_weight, or_molweight, or_bp, test_predictions_full):\n",
    "\n",
    "    plt.scatter(test_labels, test_predictions, s=0.5, color='black')\n",
    "    plt.xlabel('True boiling point (K)')\n",
    "    plt.ylabel('Predicted boilig point (K)')\n",
    "    plt.axis('equal')\n",
    "    plt.axis('square')\n",
    "    plt.xlim([0,plt.xlim()[1]])\n",
    "    plt.ylim([0,plt.ylim()[1]])\n",
    "    _ = plt.plot([-100, 1000], [-100, 1000])\n",
    "    plt.show()\n",
    "\n",
    "    plt.scatter(test_dataset_weight, test_predictions)\n",
    "    plt.show()\n",
    "\n",
    "    plt.scatter(or_molweight, or_bp, s=2)\n",
    "    plt.scatter(or_molweight, test_predictions_full, color='black')\n",
    "    plt.xlabel('Molecular weight')\n",
    "    plt.ylabel('boiling point (K)')\n",
    "    plt.xlim([0,plt.xlim()[1]])\n",
    "    plt.ylim([0,plt.ylim()[1]])\n",
    "    plt.title('Boiling point of compounds by molecular weight')\n",
    "    plt.show()\n"
   ]
  },
  {
   "cell_type": "code",
   "execution_count": 166,
   "metadata": {},
   "outputs": [
    {
     "data": {
      "image/png": "[encoded data removed]",
      "text/plain": [
       "<Figure size 432x288 with 1 Axes>"
      ]
     },
     "metadata": {
      "needs_background": "light"
     },
     "output_type": "display_data"
    },
    {
     "data": {
      "image/png": "[encoded data removed]",
      "text/plain": [
       "<Figure size 432x288 with 1 Axes>"
      ]
     },
     "metadata": {
      "needs_background": "light"
     },
     "output_type": "display_data"
    },
    {
     "data": {
      "image/png": "[encoded data removed]",
      "text/plain": [
       "<Figure size 432x288 with 1 Axes>"
      ]
     },
     "metadata": {
      "needs_background": "light"
     },
     "output_type": "display_data"
    }
   ],
   "source": [
    "do_graphs(test_labels, test_predictions, test_dataset['molweight'], df['molweight'], df['boiling point (K)'], test_pred_full)"
   ]
  },
  {
   "cell_type": "markdown",
   "metadata": {},
   "source": [
    "# ML2 Multivariate regression"
   ]
  },
  {
   "cell_type": "code",
   "execution_count": 17,
   "metadata": {},
   "outputs": [],
   "source": [
    "#Create a new dataframe, that now has MW, acentric factor as the inputs, and T ratio as the output\n",
    "\n",
    "df_2 = df_1\n",
    "df_2['T ratio'] = df['boiling point (K)'] / df['critical temperature (K)']\n",
    "df_2['acc fac'] = df['acentric factor']\n",
    "df_2 = df_2.drop(['boiling point (K)'], axis=1)"
   ]
  },
  {
   "cell_type": "code",
   "execution_count": 18,
   "metadata": {},
   "outputs": [],
   "source": [
    "df_full_test = df_2.drop(['T ratio'], axis=1)"
   ]
  },
  {
   "cell_type": "code",
   "execution_count": 19,
   "metadata": {},
   "outputs": [],
   "source": [
    "#As before, split the new dataframe into training and test (validation) samples, then cut the labels out into seperate list\n",
    "\n",
    "train_dataset_2 = df_2.sample(frac=0.8,random_state=0)\n",
    "test_dataset_2 = df_2.drop(train_dataset.index)\n",
    "\n",
    "train_labels_2 = train_dataset_2.pop('T ratio')\n",
    "test_labels_2 = test_dataset_2.pop('T ratio')"
   ]
  },
  {
   "cell_type": "code",
   "execution_count": 21,
   "metadata": {},
   "outputs": [],
   "source": [
    "#Building the new model. Here 7 nodes are used as there are more inputs\n",
    "\n",
    "def build_model():\n",
    "    \n",
    "    model = keras.Sequential()\n",
    "    model.add(Dense(7, input_shape=[len(train_dataset_2.keys())]))\n",
    "    model.add(Dense(7)) #No bias this time as expected to go through origin (default = 0)\n",
    "    model.add(Dense(1))\n",
    "    \n",
    "    optimizer = tf.keras.optimizers.Adagrad(learning_rate=0.05)\n",
    "    \n",
    "    model.compile(loss='mse', optimizer=optimizer, metrics=['mae', 'mse'])\n",
    "\n",
    "    return model"
   ]
  },
  {
   "cell_type": "code",
   "execution_count": 22,
   "metadata": {},
   "outputs": [
    {
     "name": "stdout",
     "output_type": "stream",
     "text": [
      "WARNING:tensorflow:Falling back from v2 loop because of error: Failed to find data adapter that can handle input: <class 'pandas.core.frame.DataFrame'>, <class 'NoneType'>\n",
      "Train on 3860 samples, validate on 965 samples\n",
      "Epoch 1/150\n",
      "3725/3860 [===========================>..] - ETA: 0s - loss: 37.6049 - mae: 0.3750 - mse: 37.6050\n",
      "3860/3860 [==============================] - 1s 258us/sample - loss: 36.2899 - mae: 0.3638 - mse: 36.2899 - val_loss: 0.0048 - val_mae: 0.0609 - val_mse: 0.0048\n",
      "Epoch 2/150\n",
      "3860/3860 [==============================] - 1s 231us/sample - loss: 0.0039 - mae: 0.0510 - mse: 0.0039 - val_loss: 0.0031 - val_mae: 0.0451 - val_mse: 0.0031\n",
      "Epoch 3/150\n",
      "3860/3860 [==============================] - 1s 230us/sample - loss: 0.0030 - mae: 0.0442 - mse: 0.0030 - val_loss: 0.0027 - val_mae: 0.0456 - val_mse: 0.0027\n",
      "Epoch 4/150\n",
      "3860/3860 [==============================] - 1s 218us/sample - loss: 0.0023 - mae: 0.0386 - mse: 0.0023 - val_loss: 0.0020 - val_mae: 0.0343 - val_mse: 0.0020\n",
      "Epoch 5/150\n",
      "3860/3860 [==============================] - 1s 229us/sample - loss: 0.0018 - mae: 0.0345 - mse: 0.0018 - val_loss: 0.0015 - val_mae: 0.0318 - val_mse: 0.0015\n",
      "Epoch 6/150\n",
      "3860/3860 [==============================] - 1s 212us/sample - loss: 0.0015 - mae: 0.0312 - mse: 0.0015 - val_loss: 0.0013 - val_mae: 0.0291 - val_mse: 0.0013\n",
      "Epoch 7/150\n",
      "3860/3860 [==============================] - 1s 218us/sample - loss: 0.0014 - mae: 0.0295 - mse: 0.0014 - val_loss: 0.0012 - val_mae: 0.0277 - val_mse: 0.0012\n",
      "Epoch 8/150\n",
      "3860/3860 [==============================] - 1s 222us/sample - loss: 0.0012 - mae: 0.0275 - mse: 0.0012 - val_loss: 0.0012 - val_mae: 0.0258 - val_mse: 0.0012\n",
      "Epoch 9/150\n",
      "3860/3860 [==============================] - 1s 251us/sample - loss: 0.0012 - mae: 0.0264 - mse: 0.0012 - val_loss: 0.0011 - val_mae: 0.0252 - val_mse: 0.0011\n",
      "Epoch 10/150\n",
      "3860/3860 [==============================] - 1s 208us/sample - loss: 0.0011 - mae: 0.0256 - mse: 0.0011 - val_loss: 0.0010 - val_mae: 0.0256 - val_mse: 0.0010\n",
      "Epoch 11/150\n",
      "3860/3860 [==============================] - 1s 215us/sample - loss: 0.0011 - mae: 0.0250 - mse: 0.0011 - val_loss: 0.0016 - val_mae: 0.0345 - val_mse: 0.0016\n",
      "Epoch 12/150\n",
      "3860/3860 [==============================] - 1s 228us/sample - loss: 0.0010 - mae: 0.0245 - mse: 0.0010 - val_loss: 0.0010 - val_mae: 0.0232 - val_mse: 0.0010\n",
      "Epoch 13/150\n",
      "3860/3860 [==============================] - 1s 214us/sample - loss: 0.0010 - mae: 0.0240 - mse: 0.0010 - val_loss: 0.0011 - val_mae: 0.0232 - val_mse: 0.0011\n",
      "Epoch 14/150\n",
      "3860/3860 [==============================] - 1s 214us/sample - loss: 9.9290e-04 - mae: 0.0236 - mse: 9.9290e-04 - val_loss: 9.8880e-04 - val_mae: 0.0226 - val_mse: 9.8880e-04\n",
      "Epoch 15/150\n",
      "3860/3860 [==============================] - 1s 216us/sample - loss: 9.8740e-04 - mae: 0.0234 - mse: 9.8740e-04 - val_loss: 9.8393e-04 - val_mae: 0.0250 - val_mse: 9.8393e-04\n",
      "Epoch 16/150\n",
      "3860/3860 [==============================] - 1s 210us/sample - loss: 9.6529e-04 - mae: 0.0231 - mse: 9.6529e-04 - val_loss: 9.1175e-04 - val_mae: 0.0220 - val_mse: 9.1175e-04\n",
      "Epoch 17/150\n",
      "3860/3860 [==============================] - 1s 215us/sample - loss: 9.4501e-04 - mae: 0.0229 - mse: 9.4501e-04 - val_loss: 8.9935e-04 - val_mae: 0.0232 - val_mse: 8.9935e-04\n",
      "Epoch 18/150\n",
      "3860/3860 [==============================] - 1s 214us/sample - loss: 9.5205e-04 - mae: 0.0229 - mse: 9.5206e-04 - val_loss: 8.7244e-04 - val_mae: 0.0217 - val_mse: 8.7244e-04\n",
      "Epoch 19/150\n",
      "3860/3860 [==============================] - 1s 218us/sample - loss: 9.1925e-04 - mae: 0.0223 - mse: 9.1925e-04 - val_loss: 9.4660e-04 - val_mae: 0.0244 - val_mse: 9.4660e-04\n",
      "Epoch 20/150\n",
      "3860/3860 [==============================] - 1s 234us/sample - loss: 9.1103e-04 - mae: 0.0223 - mse: 9.1103e-04 - val_loss: 0.0013 - val_mae: 0.0302 - val_mse: 0.0013\n",
      "Epoch 21/150\n",
      "3860/3860 [==============================] - 1s 210us/sample - loss: 9.0768e-04 - mae: 0.0223 - mse: 9.0768e-04 - val_loss: 9.0507e-04 - val_mae: 0.0236 - val_mse: 9.0507e-04\n",
      "Epoch 22/150\n",
      "3860/3860 [==============================] - 1s 228us/sample - loss: 8.7947e-04 - mae: 0.0218 - mse: 8.7947e-04 - val_loss: 8.6925e-04 - val_mae: 0.0229 - val_mse: 8.6925e-04\n",
      "Epoch 23/150\n",
      "3860/3860 [==============================] - 1s 222us/sample - loss: 8.7824e-04 - mae: 0.0217 - mse: 8.7824e-04 - val_loss: 8.1072e-04 - val_mae: 0.0211 - val_mse: 8.1072e-04\n",
      "Epoch 24/150\n",
      "3860/3860 [==============================] - 1s 232us/sample - loss: 8.5967e-04 - mae: 0.0215 - mse: 8.5967e-04 - val_loss: 8.5131e-04 - val_mae: 0.0226 - val_mse: 8.5131e-04\n",
      "Epoch 25/150\n",
      "3860/3860 [==============================] - 1s 232us/sample - loss: 8.5431e-04 - mae: 0.0213 - mse: 8.5432e-04 - val_loss: 7.9555e-04 - val_mae: 0.0208 - val_mse: 7.9555e-04\n",
      "Epoch 26/150\n",
      "3860/3860 [==============================] - 1s 254us/sample - loss: 8.6411e-04 - mae: 0.0215 - mse: 8.6411e-04 - val_loss: 7.8634e-04 - val_mae: 0.0207 - val_mse: 7.8634e-04\n",
      "Epoch 27/150\n",
      "3860/3860 [==============================] - 1s 237us/sample - loss: 8.4702e-04 - mae: 0.0213 - mse: 8.4702e-04 - val_loss: 7.7774e-04 - val_mae: 0.0207 - val_mse: 7.7774e-04\n",
      "Epoch 28/150\n",
      "3860/3860 [==============================] - 1s 215us/sample - loss: 8.3914e-04 - mae: 0.0211 - mse: 8.3914e-04 - val_loss: 8.4752e-04 - val_mae: 0.0207 - val_mse: 8.4752e-04\n",
      "Epoch 29/150\n",
      "3860/3860 [==============================] - 1s 218us/sample - loss: 8.4341e-04 - mae: 0.0211 - mse: 8.4341e-04 - val_loss: 9.0717e-04 - val_mae: 0.0212 - val_mse: 9.0717e-04\n",
      "Epoch 30/150\n",
      "3860/3860 [==============================] - 1s 215us/sample - loss: 8.2997e-04 - mae: 0.0209 - mse: 8.2997e-04 - val_loss: 7.7573e-04 - val_mae: 0.0202 - val_mse: 7.7573e-04\n",
      "Epoch 31/150\n",
      "3860/3860 [==============================] - 1s 230us/sample - loss: 8.2448e-04 - mae: 0.0208 - mse: 8.2448e-04 - val_loss: 8.7553e-04 - val_mae: 0.0233 - val_mse: 8.7553e-04\n",
      "Epoch 32/150\n",
      "3860/3860 [==============================] - 1s 231us/sample - loss: 8.2392e-04 - mae: 0.0208 - mse: 8.2392e-04 - val_loss: 8.9234e-04 - val_mae: 0.0210 - val_mse: 8.9234e-04\n",
      "Epoch 33/150\n",
      "3860/3860 [==============================] - 1s 231us/sample - loss: 8.2082e-04 - mae: 0.0209 - mse: 8.2082e-04 - val_loss: 7.6936e-04 - val_mae: 0.0200 - val_mse: 7.6936e-04\n",
      "Epoch 34/150\n",
      "3860/3860 [==============================] - 1s 232us/sample - loss: 8.0400e-04 - mae: 0.0206 - mse: 8.0400e-04 - val_loss: 7.5381e-04 - val_mae: 0.0199 - val_mse: 7.5381e-04\n",
      "Epoch 35/150\n",
      "3860/3860 [==============================] - 1s 236us/sample - loss: 8.1111e-04 - mae: 0.0207 - mse: 8.1111e-04 - val_loss: 7.3063e-04 - val_mae: 0.0201 - val_mse: 7.3063e-04\n",
      "Epoch 36/150\n",
      "3860/3860 [==============================] - 1s 250us/sample - loss: 8.0320e-04 - mae: 0.0206 - mse: 8.0320e-04 - val_loss: 8.4705e-04 - val_mae: 0.0205 - val_mse: 8.4705e-04\n",
      "Epoch 37/150\n",
      "3860/3860 [==============================] - 1s 239us/sample - loss: 7.9107e-04 - mae: 0.0204 - mse: 7.9107e-04 - val_loss: 7.2777e-04 - val_mae: 0.0203 - val_mse: 7.2777e-04\n",
      "Epoch 38/150\n",
      "3860/3860 [==============================] - 1s 217us/sample - loss: 7.9078e-04 - mae: 0.0205 - mse: 7.9078e-04 - val_loss: 8.9083e-04 - val_mae: 0.0209 - val_mse: 8.9083e-04\n",
      "Epoch 39/150\n",
      "3860/3860 [==============================] - 1s 231us/sample - loss: 7.7529e-04 - mae: 0.0202 - mse: 7.7529e-04 - val_loss: 7.6136e-04 - val_mae: 0.0211 - val_mse: 7.6136e-04\n",
      "Epoch 40/150\n",
      "3860/3860 [==============================] - 1s 249us/sample - loss: 7.7470e-04 - mae: 0.0203 - mse: 7.7470e-04 - val_loss: 7.6895e-04 - val_mae: 0.0213 - val_mse: 7.6895e-04\n",
      "Epoch 41/150\n",
      "3860/3860 [==============================] - 1s 260us/sample - loss: 7.7850e-04 - mae: 0.0201 - mse: 7.7850e-04 - val_loss: 7.0779e-04 - val_mae: 0.0196 - val_mse: 7.0779e-04\n",
      "Epoch 42/150\n",
      "3860/3860 [==============================] - 1s 221us/sample - loss: 7.8507e-04 - mae: 0.0203 - mse: 7.8507e-04 - val_loss: 7.0264e-04 - val_mae: 0.0197 - val_mse: 7.0264e-04\n",
      "Epoch 43/150\n",
      "3860/3860 [==============================] - 1s 225us/sample - loss: 7.7610e-04 - mae: 0.0203 - mse: 7.7610e-04 - val_loss: 7.8972e-04 - val_mae: 0.0199 - val_mse: 7.8972e-04\n",
      "Epoch 44/150\n"
     ]
    },
    {
     "name": "stdout",
     "output_type": "stream",
     "text": [
      "3860/3860 [==============================] - 1s 224us/sample - loss: 7.7127e-04 - mae: 0.0200 - mse: 7.7127e-04 - val_loss: 6.9971e-04 - val_mae: 0.0198 - val_mse: 6.9971e-04\n",
      "Epoch 45/150\n",
      "3860/3860 [==============================] - 1s 208us/sample - loss: 7.6729e-04 - mae: 0.0200 - mse: 7.6729e-04 - val_loss: 6.9865e-04 - val_mae: 0.0198 - val_mse: 6.9865e-04\n",
      "Epoch 46/150\n",
      "3860/3860 [==============================] - 1s 225us/sample - loss: 7.8585e-04 - mae: 0.0202 - mse: 7.8585e-04 - val_loss: 6.9217e-04 - val_mae: 0.0194 - val_mse: 6.9217e-04\n",
      "Epoch 47/150\n",
      "3860/3860 [==============================] - 1s 212us/sample - loss: 7.7304e-04 - mae: 0.0200 - mse: 7.7304e-04 - val_loss: 6.8933e-04 - val_mae: 0.0193 - val_mse: 6.8933e-04\n",
      "Epoch 48/150\n",
      "3860/3860 [==============================] - 1s 209us/sample - loss: 7.6645e-04 - mae: 0.0199 - mse: 7.6646e-04 - val_loss: 8.3386e-04 - val_mae: 0.0202 - val_mse: 8.3386e-04\n",
      "Epoch 49/150\n",
      "3860/3860 [==============================] - 1s 208us/sample - loss: 7.7347e-04 - mae: 0.0201 - mse: 7.7347e-04 - val_loss: 6.8955e-04 - val_mae: 0.0192 - val_mse: 6.8955e-04\n",
      "Epoch 50/150\n",
      "3860/3860 [==============================] - 1s 211us/sample - loss: 7.5970e-04 - mae: 0.0199 - mse: 7.5970e-04 - val_loss: 6.9332e-04 - val_mae: 0.0198 - val_mse: 6.9332e-04\n",
      "Epoch 51/150\n",
      "3860/3860 [==============================] - 1s 203us/sample - loss: 7.6301e-04 - mae: 0.0200 - mse: 7.6301e-04 - val_loss: 7.2936e-04 - val_mae: 0.0206 - val_mse: 7.2936e-04\n",
      "Epoch 52/150\n",
      "3860/3860 [==============================] - 1s 210us/sample - loss: 7.5349e-04 - mae: 0.0198 - mse: 7.5349e-04 - val_loss: 7.6411e-04 - val_mae: 0.0195 - val_mse: 7.6411e-04\n",
      "Epoch 53/150\n",
      "3860/3860 [==============================] - 1s 210us/sample - loss: 7.6198e-04 - mae: 0.0200 - mse: 7.6198e-04 - val_loss: 7.5399e-04 - val_mae: 0.0194 - val_mse: 7.5399e-04\n",
      "Epoch 54/150\n",
      "3860/3860 [==============================] - 1s 210us/sample - loss: 7.5315e-04 - mae: 0.0198 - mse: 7.5315e-04 - val_loss: 6.7346e-04 - val_mae: 0.0192 - val_mse: 6.7346e-04\n",
      "Epoch 55/150\n",
      "3860/3860 [==============================] - 1s 209us/sample - loss: 7.4713e-04 - mae: 0.0195 - mse: 7.4713e-04 - val_loss: 6.8282e-04 - val_mae: 0.0196 - val_mse: 6.8282e-04\n",
      "Epoch 56/150\n",
      "3860/3860 [==============================] - 1s 213us/sample - loss: 7.5928e-04 - mae: 0.0198 - mse: 7.5928e-04 - val_loss: 6.7210e-04 - val_mae: 0.0193 - val_mse: 6.7210e-04\n",
      "Epoch 57/150\n",
      "3860/3860 [==============================] - 1s 224us/sample - loss: 7.4916e-04 - mae: 0.0198 - mse: 7.4916e-04 - val_loss: 6.9424e-04 - val_mae: 0.0199 - val_mse: 6.9424e-04\n",
      "Epoch 58/150\n",
      "3860/3860 [==============================] - 1s 211us/sample - loss: 7.4419e-04 - mae: 0.0196 - mse: 7.4419e-04 - val_loss: 6.9900e-04 - val_mae: 0.0200 - val_mse: 6.9900e-04\n",
      "Epoch 59/150\n",
      "3860/3860 [==============================] - 1s 211us/sample - loss: 7.4806e-04 - mae: 0.0197 - mse: 7.4806e-04 - val_loss: 6.7091e-04 - val_mae: 0.0189 - val_mse: 6.7091e-04\n",
      "Epoch 60/150\n",
      "3860/3860 [==============================] - 1s 207us/sample - loss: 7.4646e-04 - mae: 0.0197 - mse: 7.4646e-04 - val_loss: 7.7810e-04 - val_mae: 0.0196 - val_mse: 7.7810e-04\n",
      "Epoch 61/150\n",
      "3860/3860 [==============================] - 1s 207us/sample - loss: 7.5123e-04 - mae: 0.0196 - mse: 7.5123e-04 - val_loss: 6.9706e-04 - val_mae: 0.0189 - val_mse: 6.9706e-04\n",
      "Epoch 62/150\n",
      "3860/3860 [==============================] - 1s 209us/sample - loss: 7.6486e-04 - mae: 0.0197 - mse: 7.6486e-04 - val_loss: 6.7184e-04 - val_mae: 0.0194 - val_mse: 6.7184e-04\n",
      "Epoch 63/150\n",
      "3860/3860 [==============================] - 1s 213us/sample - loss: 7.5364e-04 - mae: 0.0197 - mse: 7.5364e-04 - val_loss: 6.6426e-04 - val_mae: 0.0189 - val_mse: 6.6426e-04\n",
      "Epoch 64/150\n",
      "3860/3860 [==============================] - 1s 209us/sample - loss: 7.5543e-04 - mae: 0.0197 - mse: 7.5543e-04 - val_loss: 8.8906e-04 - val_mae: 0.0207 - val_mse: 8.8906e-04\n",
      "Epoch 65/150\n",
      "3860/3860 [==============================] - 1s 211us/sample - loss: 7.4702e-04 - mae: 0.0195 - mse: 7.4702e-04 - val_loss: 8.0210e-04 - val_mae: 0.0198 - val_mse: 8.0210e-04\n",
      "Epoch 66/150\n",
      "3860/3860 [==============================] - 1s 214us/sample - loss: 7.5441e-04 - mae: 0.0196 - mse: 7.5441e-04 - val_loss: 6.5911e-04 - val_mae: 0.0189 - val_mse: 6.5911e-04\n",
      "Epoch 67/150\n",
      "3860/3860 [==============================] - 1s 224us/sample - loss: 7.4502e-04 - mae: 0.0196 - mse: 7.4502e-04 - val_loss: 6.6853e-04 - val_mae: 0.0193 - val_mse: 6.6853e-04\n",
      "Epoch 68/150\n",
      "3860/3860 [==============================] - 1s 210us/sample - loss: 7.2798e-04 - mae: 0.0194 - mse: 7.2798e-04 - val_loss: 6.9754e-04 - val_mae: 0.0200 - val_mse: 6.9754e-04\n",
      "Epoch 69/150\n",
      "3860/3860 [==============================] - 1s 224us/sample - loss: 7.5512e-04 - mae: 0.0197 - mse: 7.5512e-04 - val_loss: 7.6041e-04 - val_mae: 0.0194 - val_mse: 7.6041e-04\n",
      "Epoch 70/150\n",
      "3860/3860 [==============================] - 1s 212us/sample - loss: 7.4886e-04 - mae: 0.0196 - mse: 7.4886e-04 - val_loss: 9.6273e-04 - val_mae: 0.0215 - val_mse: 9.6273e-04\n",
      "Epoch 71/150\n",
      "3860/3860 [==============================] - 1s 211us/sample - loss: 7.4529e-04 - mae: 0.0196 - mse: 7.4529e-04 - val_loss: 7.0970e-04 - val_mae: 0.0189 - val_mse: 7.0970e-04\n",
      "Epoch 72/150\n",
      "3860/3860 [==============================] - 1s 214us/sample - loss: 7.4251e-04 - mae: 0.0195 - mse: 7.4251e-04 - val_loss: 8.4798e-04 - val_mae: 0.0202 - val_mse: 8.4798e-04\n",
      "Epoch 73/150\n",
      "3860/3860 [==============================] - 1s 207us/sample - loss: 7.4097e-04 - mae: 0.0192 - mse: 7.4097e-04 - val_loss: 6.5503e-04 - val_mae: 0.0190 - val_mse: 6.5503e-04\n",
      "Epoch 74/150\n",
      "3860/3860 [==============================] - 1s 208us/sample - loss: 7.3820e-04 - mae: 0.0195 - mse: 7.3820e-04 - val_loss: 7.6967e-04 - val_mae: 0.0194 - val_mse: 7.6967e-04\n",
      "Epoch 75/150\n",
      "3860/3860 [==============================] - 1s 212us/sample - loss: 7.3826e-04 - mae: 0.0193 - mse: 7.3826e-04 - val_loss: 6.6274e-04 - val_mae: 0.0186 - val_mse: 6.6274e-04\n",
      "Epoch 76/150\n",
      "3860/3860 [==============================] - 1s 207us/sample - loss: 7.2857e-04 - mae: 0.0194 - mse: 7.2857e-04 - val_loss: 6.6347e-04 - val_mae: 0.0192 - val_mse: 6.6347e-04\n",
      "Epoch 77/150\n",
      "3860/3860 [==============================] - 1s 211us/sample - loss: 7.4591e-04 - mae: 0.0195 - mse: 7.4591e-04 - val_loss: 7.3102e-04 - val_mae: 0.0190 - val_mse: 7.3102e-04\n",
      "Epoch 78/150\n",
      "3860/3860 [==============================] - 1s 227us/sample - loss: 7.4634e-04 - mae: 0.0195 - mse: 7.4634e-04 - val_loss: 7.5768e-04 - val_mae: 0.0193 - val_mse: 7.5768e-04\n",
      "Epoch 79/150\n",
      "3860/3860 [==============================] - 1s 206us/sample - loss: 7.2506e-04 - mae: 0.0192 - mse: 7.2506e-04 - val_loss: 7.5896e-04 - val_mae: 0.0193 - val_mse: 7.5896e-04\n",
      "Epoch 80/150\n",
      "3860/3860 [==============================] - 1s 209us/sample - loss: 7.3496e-04 - mae: 0.0194 - mse: 7.3496e-04 - val_loss: 6.9016e-04 - val_mae: 0.0187 - val_mse: 6.9016e-04\n",
      "Epoch 81/150\n",
      "3860/3860 [==============================] - 1s 207us/sample - loss: 7.2922e-04 - mae: 0.0193 - mse: 7.2922e-04 - val_loss: 6.7128e-04 - val_mae: 0.0186 - val_mse: 6.7128e-04\n",
      "Epoch 82/150\n",
      "3860/3860 [==============================] - 1s 215us/sample - loss: 7.4156e-04 - mae: 0.0194 - mse: 7.4156e-04 - val_loss: 7.8581e-04 - val_mae: 0.0195 - val_mse: 7.8581e-04\n",
      "Epoch 83/150\n",
      "3860/3860 [==============================] - 1s 218us/sample - loss: 7.4404e-04 - mae: 0.0195 - mse: 7.4404e-04 - val_loss: 6.7097e-04 - val_mae: 0.0185 - val_mse: 6.7097e-04\n",
      "Epoch 84/150\n",
      "3860/3860 [==============================] - 1s 213us/sample - loss: 7.4110e-04 - mae: 0.0194 - mse: 7.4110e-04 - val_loss: 6.5705e-04 - val_mae: 0.0185 - val_mse: 6.5706e-04\n",
      "Epoch 85/150\n",
      "3860/3860 [==============================] - 1s 212us/sample - loss: 7.3269e-04 - mae: 0.0193 - mse: 7.3269e-04 - val_loss: 6.6211e-04 - val_mae: 0.0185 - val_mse: 6.6211e-04\n",
      "Epoch 86/150\n",
      "3860/3860 [==============================] - 1s 211us/sample - loss: 7.3077e-04 - mae: 0.0194 - mse: 7.3077e-04 - val_loss: 6.7062e-04 - val_mae: 0.0185 - val_mse: 6.7062e-04\n",
      "Epoch 87/150\n",
      "3860/3860 [==============================] - 1s 226us/sample - loss: 7.2044e-04 - mae: 0.0191 - mse: 7.2044e-04 - val_loss: 6.9064e-04 - val_mae: 0.0199 - val_mse: 6.9064e-04\n"
     ]
    },
    {
     "name": "stdout",
     "output_type": "stream",
     "text": [
      "Epoch 88/150\n",
      "3860/3860 [==============================] - 1s 208us/sample - loss: 7.2850e-04 - mae: 0.0193 - mse: 7.2850e-04 - val_loss: 8.9361e-04 - val_mae: 0.0206 - val_mse: 8.9361e-04\n",
      "Epoch 89/150\n",
      "3860/3860 [==============================] - 1s 212us/sample - loss: 7.3744e-04 - mae: 0.0193 - mse: 7.3744e-04 - val_loss: 6.4802e-04 - val_mae: 0.0185 - val_mse: 6.4802e-04\n",
      "Epoch 90/150\n",
      "3860/3860 [==============================] - 1s 225us/sample - loss: 7.3552e-04 - mae: 0.0192 - mse: 7.3552e-04 - val_loss: 8.2629e-04 - val_mae: 0.0226 - val_mse: 8.2629e-04\n",
      "Epoch 91/150\n",
      "3860/3860 [==============================] - 1s 212us/sample - loss: 7.4763e-04 - mae: 0.0196 - mse: 7.4763e-04 - val_loss: 6.7898e-04 - val_mae: 0.0196 - val_mse: 6.7898e-04\n",
      "Epoch 92/150\n",
      "3860/3860 [==============================] - 1s 212us/sample - loss: 7.4962e-04 - mae: 0.0194 - mse: 7.4962e-04 - val_loss: 6.5013e-04 - val_mae: 0.0189 - val_mse: 6.5013e-04\n",
      "Epoch 93/150\n",
      "3860/3860 [==============================] - 1s 211us/sample - loss: 7.3613e-04 - mae: 0.0194 - mse: 7.3613e-04 - val_loss: 6.8953e-04 - val_mae: 0.0186 - val_mse: 6.8953e-04\n",
      "Epoch 94/150\n",
      "3860/3860 [==============================] - 1s 209us/sample - loss: 7.1256e-04 - mae: 0.0189 - mse: 7.1256e-04 - val_loss: 6.7092e-04 - val_mae: 0.0185 - val_mse: 6.7092e-04\n",
      "Epoch 95/150\n",
      "3860/3860 [==============================] - 1s 204us/sample - loss: 7.3678e-04 - mae: 0.0192 - mse: 7.3678e-04 - val_loss: 7.2192e-04 - val_mae: 0.0189 - val_mse: 7.2192e-04\n",
      "Epoch 96/150\n",
      "3860/3860 [==============================] - 1s 215us/sample - loss: 7.3792e-04 - mae: 0.0193 - mse: 7.3793e-04 - val_loss: 8.8325e-04 - val_mae: 0.0205 - val_mse: 8.8324e-04\n",
      "Epoch 97/150\n",
      "3860/3860 [==============================] - 1s 209us/sample - loss: 7.5023e-04 - mae: 0.0194 - mse: 7.5023e-04 - val_loss: 6.4457e-04 - val_mae: 0.0185 - val_mse: 6.4457e-04\n",
      "Epoch 98/150\n",
      "3860/3860 [==============================] - 1s 209us/sample - loss: 7.4436e-04 - mae: 0.0195 - mse: 7.4436e-04 - val_loss: 7.6547e-04 - val_mae: 0.0193 - val_mse: 7.6547e-04\n",
      "Epoch 99/150\n",
      "3860/3860 [==============================] - 1s 211us/sample - loss: 7.2865e-04 - mae: 0.0193 - mse: 7.2865e-04 - val_loss: 6.6468e-04 - val_mae: 0.0184 - val_mse: 6.6468e-04\n",
      "Epoch 100/150\n",
      "3860/3860 [==============================] - 1s 210us/sample - loss: 7.3506e-04 - mae: 0.0194 - mse: 7.3506e-04 - val_loss: 6.4908e-04 - val_mae: 0.0184 - val_mse: 6.4908e-04\n",
      "Epoch 101/150\n",
      "3755/3860 [============================>.] - ETA: 0s - loss: 7.3902e-04 - mae: 0.0194 - mse: 7.3902e-04\n",
      "3860/3860 [==============================] - 1s 212us/sample - loss: 7.3427e-04 - mae: 0.0193 - mse: 7.3427e-04 - val_loss: 7.0330e-04 - val_mae: 0.0187 - val_mse: 7.0330e-04\n",
      "Epoch 102/150\n",
      "3860/3860 [==============================] - 1s 223us/sample - loss: 7.4472e-04 - mae: 0.0195 - mse: 7.4472e-04 - val_loss: 6.6603e-04 - val_mae: 0.0184 - val_mse: 6.6603e-04\n",
      "Epoch 103/150\n",
      "3860/3860 [==============================] - 1s 210us/sample - loss: 7.3563e-04 - mae: 0.0194 - mse: 7.3563e-04 - val_loss: 7.0741e-04 - val_mae: 0.0202 - val_mse: 7.0741e-04\n",
      "Epoch 104/150\n",
      "3860/3860 [==============================] - 1s 211us/sample - loss: 7.2619e-04 - mae: 0.0192 - mse: 7.2619e-04 - val_loss: 8.0327e-04 - val_mae: 0.0197 - val_mse: 8.0327e-04\n",
      "Epoch 105/150\n",
      "3860/3860 [==============================] - 1s 207us/sample - loss: 7.3000e-04 - mae: 0.0192 - mse: 7.3000e-04 - val_loss: 7.5575e-04 - val_mae: 0.0192 - val_mse: 7.5575e-04\n",
      "Epoch 106/150\n",
      "3860/3860 [==============================] - 1s 211us/sample - loss: 7.6066e-04 - mae: 0.0194 - mse: 7.6066e-04 - val_loss: 6.7255e-04 - val_mae: 0.0184 - val_mse: 6.7255e-04\n",
      "Epoch 107/150\n",
      "3860/3860 [==============================] - 1s 213us/sample - loss: 7.3583e-04 - mae: 0.0192 - mse: 7.3583e-04 - val_loss: 0.0019 - val_mae: 0.0364 - val_mse: 0.0019\n",
      "Epoch 108/150\n",
      "3860/3860 [==============================] - 1s 207us/sample - loss: 7.3620e-04 - mae: 0.0193 - mse: 7.3620e-04 - val_loss: 6.6454e-04 - val_mae: 0.0193 - val_mse: 6.6454e-04\n",
      "Epoch 109/150\n",
      "3860/3860 [==============================] - 1s 208us/sample - loss: 7.3080e-04 - mae: 0.0191 - mse: 7.3080e-04 - val_loss: 6.4756e-04 - val_mae: 0.0184 - val_mse: 6.4756e-04\n",
      "Epoch 110/150\n",
      "3860/3860 [==============================] - 1s 209us/sample - loss: 7.2429e-04 - mae: 0.0192 - mse: 7.2429e-04 - val_loss: 8.2384e-04 - val_mae: 0.0226 - val_mse: 8.2384e-04\n",
      "Epoch 111/150\n",
      "3860/3860 [==============================] - 1s 214us/sample - loss: 7.3647e-04 - mae: 0.0193 - mse: 7.3647e-04 - val_loss: 6.4211e-04 - val_mae: 0.0186 - val_mse: 6.4211e-04\n",
      "Epoch 112/150\n",
      "3860/3860 [==============================] - 1s 224us/sample - loss: 7.2172e-04 - mae: 0.0192 - mse: 7.2171e-04 - val_loss: 7.7862e-04 - val_mae: 0.0194 - val_mse: 7.7862e-04\n",
      "Epoch 113/150\n",
      "3860/3860 [==============================] - 1s 212us/sample - loss: 7.3037e-04 - mae: 0.0191 - mse: 7.3037e-04 - val_loss: 7.1260e-04 - val_mae: 0.0187 - val_mse: 7.1260e-04\n",
      "Epoch 114/150\n",
      "3860/3860 [==============================] - 1s 224us/sample - loss: 7.4466e-04 - mae: 0.0194 - mse: 7.4466e-04 - val_loss: 8.8727e-04 - val_mae: 0.0205 - val_mse: 8.8727e-04\n",
      "Epoch 115/150\n",
      "3860/3860 [==============================] - 1s 210us/sample - loss: 7.4118e-04 - mae: 0.0193 - mse: 7.4118e-04 - val_loss: 7.0123e-04 - val_mae: 0.0201 - val_mse: 7.0123e-04\n",
      "Epoch 116/150\n",
      "3860/3860 [==============================] - 1s 210us/sample - loss: 7.3893e-04 - mae: 0.0193 - mse: 7.3893e-04 - val_loss: 6.7912e-04 - val_mae: 0.0184 - val_mse: 6.7912e-04\n",
      "Epoch 117/150\n",
      "3860/3860 [==============================] - 1s 213us/sample - loss: 7.6607e-04 - mae: 0.0197 - mse: 7.6607e-04 - val_loss: 6.4165e-04 - val_mae: 0.0185 - val_mse: 6.4165e-04\n",
      "Epoch 118/150\n",
      "3860/3860 [==============================] - 1s 224us/sample - loss: 7.3365e-04 - mae: 0.0193 - mse: 7.3365e-04 - val_loss: 6.8952e-04 - val_mae: 0.0199 - val_mse: 6.8952e-04\n",
      "Epoch 119/150\n",
      "3860/3860 [==============================] - 1s 210us/sample - loss: 7.2273e-04 - mae: 0.0191 - mse: 7.2273e-04 - val_loss: 6.6098e-04 - val_mae: 0.0192 - val_mse: 6.6098e-04\n",
      "Epoch 120/150\n",
      "3860/3860 [==============================] - 1s 212us/sample - loss: 7.4174e-04 - mae: 0.0193 - mse: 7.4174e-04 - val_loss: 6.4849e-04 - val_mae: 0.0184 - val_mse: 6.4849e-04\n",
      "Epoch 121/150\n",
      "3860/3860 [==============================] - 1s 229us/sample - loss: 7.4021e-04 - mae: 0.0194 - mse: 7.4021e-04 - val_loss: 6.6642e-04 - val_mae: 0.0183 - val_mse: 6.6642e-04\n",
      "Epoch 122/150\n",
      "3860/3860 [==============================] - 1s 219us/sample - loss: 7.5448e-04 - mae: 0.0194 - mse: 7.5448e-04 - val_loss: 6.7044e-04 - val_mae: 0.0194 - val_mse: 6.7044e-04\n",
      "Epoch 123/150\n",
      "3860/3860 [==============================] - 1s 216us/sample - loss: 7.4828e-04 - mae: 0.0194 - mse: 7.4828e-04 - val_loss: 7.9673e-04 - val_mae: 0.0196 - val_mse: 7.9673e-04\n",
      "Epoch 124/150\n",
      "3860/3860 [==============================] - 1s 212us/sample - loss: 7.3098e-04 - mae: 0.0192 - mse: 7.3098e-04 - val_loss: 7.2668e-04 - val_mae: 0.0189 - val_mse: 7.2668e-04\n",
      "Epoch 125/150\n",
      "3860/3860 [==============================] - 1s 212us/sample - loss: 7.4109e-04 - mae: 0.0194 - mse: 7.4109e-04 - val_loss: 6.6297e-04 - val_mae: 0.0193 - val_mse: 6.6297e-04\n",
      "Epoch 126/150\n",
      "3860/3860 [==============================] - 1s 215us/sample - loss: 7.4565e-04 - mae: 0.0194 - mse: 7.4565e-04 - val_loss: 6.7604e-04 - val_mae: 0.0184 - val_mse: 6.7604e-04\n",
      "Epoch 127/150\n",
      "3860/3860 [==============================] - 1s 214us/sample - loss: 7.2943e-04 - mae: 0.0192 - mse: 7.2943e-04 - val_loss: 6.4320e-04 - val_mae: 0.0186 - val_mse: 6.4320e-04\n",
      "Epoch 128/150\n",
      "3860/3860 [==============================] - 1s 224us/sample - loss: 7.3298e-04 - mae: 0.0194 - mse: 7.3298e-04 - val_loss: 7.0868e-04 - val_mae: 0.0187 - val_mse: 7.0868e-04\n",
      "Epoch 129/150\n",
      "3860/3860 [==============================] - 1s 225us/sample - loss: 7.2700e-04 - mae: 0.0192 - mse: 7.2700e-04 - val_loss: 6.5757e-04 - val_mae: 0.0191 - val_mse: 6.5757e-04\n",
      "Epoch 130/150\n",
      "3860/3860 [==============================] - 1s 213us/sample - loss: 7.3337e-04 - mae: 0.0193 - mse: 7.3337e-04 - val_loss: 7.6659e-04 - val_mae: 0.0193 - val_mse: 7.6659e-04\n"
     ]
    },
    {
     "name": "stdout",
     "output_type": "stream",
     "text": [
      "Epoch 131/150\n",
      "3860/3860 [==============================] - 1s 208us/sample - loss: 7.1996e-04 - mae: 0.0191 - mse: 7.1996e-04 - val_loss: 7.1301e-04 - val_mae: 0.0187 - val_mse: 7.1301e-04\n",
      "Epoch 132/150\n",
      "3860/3860 [==============================] - 1s 211us/sample - loss: 7.5013e-04 - mae: 0.0194 - mse: 7.5013e-04 - val_loss: 6.4103e-04 - val_mae: 0.0185 - val_mse: 6.4103e-04\n",
      "Epoch 133/150\n",
      "3860/3860 [==============================] - 1s 208us/sample - loss: 7.3085e-04 - mae: 0.0192 - mse: 7.3085e-04 - val_loss: 6.8133e-04 - val_mae: 0.0184 - val_mse: 6.8133e-04\n",
      "Epoch 134/150\n",
      "3860/3860 [==============================] - 1s 211us/sample - loss: 7.4552e-04 - mae: 0.0193 - mse: 7.4552e-04 - val_loss: 7.1182e-04 - val_mae: 0.0187 - val_mse: 7.1182e-04\n",
      "Epoch 135/150\n",
      "3860/3860 [==============================] - 1s 225us/sample - loss: 7.4471e-04 - mae: 0.0195 - mse: 7.4471e-04 - val_loss: 8.3918e-04 - val_mae: 0.0229 - val_mse: 8.3918e-04\n",
      "Epoch 136/150\n",
      "3860/3860 [==============================] - 1s 223us/sample - loss: 7.2936e-04 - mae: 0.0192 - mse: 7.2936e-04 - val_loss: 7.8512e-04 - val_mae: 0.0195 - val_mse: 7.8512e-04\n",
      "Epoch 137/150\n",
      "3860/3860 [==============================] - 1s 211us/sample - loss: 7.3849e-04 - mae: 0.0194 - mse: 7.3849e-04 - val_loss: 6.4242e-04 - val_mae: 0.0184 - val_mse: 6.4242e-04\n",
      "Epoch 138/150\n",
      "3860/3860 [==============================] - 1s 211us/sample - loss: 7.4269e-04 - mae: 0.0194 - mse: 7.4269e-04 - val_loss: 7.4770e-04 - val_mae: 0.0191 - val_mse: 7.4770e-04\n",
      "Epoch 139/150\n",
      "3860/3860 [==============================] - 1s 211us/sample - loss: 7.6635e-04 - mae: 0.0196 - mse: 7.6635e-04 - val_loss: 6.6435e-04 - val_mae: 0.0183 - val_mse: 6.6435e-04\n",
      "Epoch 140/150\n",
      "3860/3860 [==============================] - 1s 211us/sample - loss: 7.5590e-04 - mae: 0.0196 - mse: 7.5590e-04 - val_loss: 6.4601e-04 - val_mae: 0.0187 - val_mse: 6.4601e-04\n",
      "Epoch 141/150\n",
      "3860/3860 [==============================] - 1s 218us/sample - loss: 7.4057e-04 - mae: 0.0195 - mse: 7.4057e-04 - val_loss: 6.7919e-04 - val_mae: 0.0184 - val_mse: 6.7919e-04\n",
      "Epoch 142/150\n",
      "3860/3860 [==============================] - 1s 210us/sample - loss: 7.3127e-04 - mae: 0.0192 - mse: 7.3127e-04 - val_loss: 6.7793e-04 - val_mae: 0.0196 - val_mse: 6.7793e-04\n",
      "Epoch 143/150\n",
      "3860/3860 [==============================] - 1s 205us/sample - loss: 7.3112e-04 - mae: 0.0193 - mse: 7.3112e-04 - val_loss: 9.7092e-04 - val_mae: 0.0214 - val_mse: 9.7092e-04\n",
      "Epoch 144/150\n",
      "3860/3860 [==============================] - 1s 214us/sample - loss: 7.1765e-04 - mae: 0.0190 - mse: 7.1765e-04 - val_loss: 8.1142e-04 - val_mae: 0.0197 - val_mse: 8.1142e-04\n",
      "Epoch 145/150\n",
      "3860/3860 [==============================] - 1s 225us/sample - loss: 7.5835e-04 - mae: 0.0195 - mse: 7.5835e-04 - val_loss: 6.4240e-04 - val_mae: 0.0186 - val_mse: 6.4240e-04\n",
      "Epoch 146/150\n",
      "3860/3860 [==============================] - 1s 225us/sample - loss: 7.5931e-04 - mae: 0.0195 - mse: 7.5931e-04 - val_loss: 6.6458e-04 - val_mae: 0.0193 - val_mse: 6.6458e-04\n",
      "Epoch 147/150\n",
      "3860/3860 [==============================] - 1s 210us/sample - loss: 7.4399e-04 - mae: 0.0194 - mse: 7.4399e-04 - val_loss: 0.0011 - val_mae: 0.0275 - val_mse: 0.0011\n",
      "Epoch 148/150\n",
      "3860/3860 [==============================] - 1s 207us/sample - loss: 7.4960e-04 - mae: 0.0195 - mse: 7.4960e-04 - val_loss: 7.5868e-04 - val_mae: 0.0192 - val_mse: 7.5868e-04\n",
      "Epoch 149/150\n",
      "3860/3860 [==============================] - 1s 209us/sample - loss: 7.3289e-04 - mae: 0.0192 - mse: 7.3289e-04 - val_loss: 6.5145e-04 - val_mae: 0.0183 - val_mse: 6.5145e-04\n",
      "Epoch 150/150\n",
      "3860/3860 [==============================] - 1s 213us/sample - loss: 7.4255e-04 - mae: 0.0194 - mse: 7.4255e-04 - val_loss: 6.6584e-04 - val_mae: 0.0183 - val_mse: 6.6584e-04\n"
     ]
    }
   ],
   "source": [
    "model = build_model()\n",
    "\n",
    "# Display training progress by printing a single dot for each completed epoch\n",
    "class PrintDot(keras.callbacks.Callback):\n",
    "  def on_epoch_end(self, epoch, logs):\n",
    "    if epoch % 100 == 0: print('')\n",
    "    print('.', end='')\n",
    "\n",
    "EPOCHS = 150 #More epochs required here\n",
    "\n",
    "history_2 = model.fit(\n",
    "    train_dataset_2, \n",
    "    train_labels_2,\n",
    "    batch_size=5,\n",
    "    epochs=EPOCHS, \n",
    "    validation_split = 0.2, \n",
    "    verbose=1,\n",
    "    callbacks=[PrintDot()])"
   ]
  },
  {
   "cell_type": "code",
   "execution_count": 23,
   "metadata": {},
   "outputs": [
    {
     "data": {
      "text/html": [
       "<div>\n",
       "<style scoped>\n",
       "    .dataframe tbody tr th:only-of-type {\n",
       "        vertical-align: middle;\n",
       "    }\n",
       "\n",
       "    .dataframe tbody tr th {\n",
       "        vertical-align: top;\n",
       "    }\n",
       "\n",
       "    .dataframe thead th {\n",
       "        text-align: right;\n",
       "    }\n",
       "</style>\n",
       "<table border=\"1\" class=\"dataframe\">\n",
       "  <thead>\n",
       "    <tr style=\"text-align: right;\">\n",
       "      <th></th>\n",
       "      <th>loss</th>\n",
       "      <th>mae</th>\n",
       "      <th>mse</th>\n",
       "      <th>val_loss</th>\n",
       "      <th>val_mae</th>\n",
       "      <th>val_mse</th>\n",
       "      <th>epoch</th>\n",
       "    </tr>\n",
       "  </thead>\n",
       "  <tbody>\n",
       "    <tr>\n",
       "      <th>145</th>\n",
       "      <td>0.000759</td>\n",
       "      <td>0.019501</td>\n",
       "      <td>0.000759</td>\n",
       "      <td>0.000665</td>\n",
       "      <td>0.019303</td>\n",
       "      <td>0.000665</td>\n",
       "      <td>145</td>\n",
       "    </tr>\n",
       "    <tr>\n",
       "      <th>146</th>\n",
       "      <td>0.000744</td>\n",
       "      <td>0.019437</td>\n",
       "      <td>0.000744</td>\n",
       "      <td>0.001144</td>\n",
       "      <td>0.027548</td>\n",
       "      <td>0.001144</td>\n",
       "      <td>146</td>\n",
       "    </tr>\n",
       "    <tr>\n",
       "      <th>147</th>\n",
       "      <td>0.000750</td>\n",
       "      <td>0.019497</td>\n",
       "      <td>0.000750</td>\n",
       "      <td>0.000759</td>\n",
       "      <td>0.019182</td>\n",
       "      <td>0.000759</td>\n",
       "      <td>147</td>\n",
       "    </tr>\n",
       "    <tr>\n",
       "      <th>148</th>\n",
       "      <td>0.000733</td>\n",
       "      <td>0.019189</td>\n",
       "      <td>0.000733</td>\n",
       "      <td>0.000651</td>\n",
       "      <td>0.018304</td>\n",
       "      <td>0.000651</td>\n",
       "      <td>148</td>\n",
       "    </tr>\n",
       "    <tr>\n",
       "      <th>149</th>\n",
       "      <td>0.000743</td>\n",
       "      <td>0.019400</td>\n",
       "      <td>0.000743</td>\n",
       "      <td>0.000666</td>\n",
       "      <td>0.018310</td>\n",
       "      <td>0.000666</td>\n",
       "      <td>149</td>\n",
       "    </tr>\n",
       "  </tbody>\n",
       "</table>\n",
       "</div>"
      ],
      "text/plain": [
       "         loss       mae       mse  val_loss   val_mae   val_mse  epoch\n",
       "145  0.000759  0.019501  0.000759  0.000665  0.019303  0.000665    145\n",
       "146  0.000744  0.019437  0.000744  0.001144  0.027548  0.001144    146\n",
       "147  0.000750  0.019497  0.000750  0.000759  0.019182  0.000759    147\n",
       "148  0.000733  0.019189  0.000733  0.000651  0.018304  0.000651    148\n",
       "149  0.000743  0.019400  0.000743  0.000666  0.018310  0.000666    149"
      ]
     },
     "execution_count": 23,
     "metadata": {},
     "output_type": "execute_result"
    }
   ],
   "source": [
    "hist_2 = pd.DataFrame(history_2.history)\n",
    "hist_2['epoch'] = history_2.epoch\n",
    "hist_2.tail()"
   ]
  },
  {
   "cell_type": "code",
   "execution_count": 24,
   "metadata": {},
   "outputs": [
    {
     "data": {
      "image/png": "[encoded data removed]",
      "text/plain": [
       "<Figure size 432x288 with 1 Axes>"
      ]
     },
     "metadata": {
      "needs_background": "light"
     },
     "output_type": "display_data"
    },
    {
     "data": {
      "image/png": "[encoded data removed]",
      "text/plain": [
       "<Figure size 432x288 with 1 Axes>"
      ]
     },
     "metadata": {
      "needs_background": "light"
     },
     "output_type": "display_data"
    }
   ],
   "source": [
    "plot_history(history_2)"
   ]
  },
  {
   "cell_type": "code",
   "execution_count": 25,
   "metadata": {},
   "outputs": [
    {
     "name": "stdout",
     "output_type": "stream",
     "text": [
      "WARNING:tensorflow:Falling back from v2 loop because of error: Failed to find data adapter that can handle input: <class 'pandas.core.frame.DataFrame'>, <class 'NoneType'>\n",
      "WARNING:tensorflow:Falling back from v2 loop because of error: Failed to find data adapter that can handle input: <class 'pandas.core.frame.DataFrame'>, <class 'NoneType'>\n"
     ]
    }
   ],
   "source": [
    "#Generate preditions as before\n",
    "\n",
    "test_predictions_2 = model.predict(test_dataset_2).flatten()\n",
    "test_pred_full_2 = model.predict(df_full_test).flatten()"
   ]
  },
  {
   "cell_type": "code",
   "execution_count": 30,
   "metadata": {},
   "outputs": [
    {
     "data": {
      "image/png": "[encoded data removed]",
      "text/plain": [
       "<Figure size 432x288 with 1 Axes>"
      ]
     },
     "metadata": {
      "needs_background": "light"
     },
     "output_type": "display_data"
    },
    {
     "data": {
      "image/png": "[encoded data removed]",
      "text/plain": [
       "<Figure size 432x288 with 1 Axes>"
      ]
     },
     "metadata": {
      "needs_background": "light"
     },
     "output_type": "display_data"
    },
    {
     "data": {
      "image/png": "[encoded data removed]",
      "text/plain": [
       "<Figure size 432x288 with 1 Axes>"
      ]
     },
     "metadata": {
      "needs_background": "light"
     },
     "output_type": "display_data"
    }
   ],
   "source": [
    "do_graphs(test_labels_2, test_predictions_2, test_dataset_2['molweight'], df['molweight'], df['boiling point (K)'], test_pred_full_2)"
   ]
  },
  {
   "cell_type": "code",
   "execution_count": 32,
   "metadata": {},
   "outputs": [
    {
     "data": {
      "text/plain": [
       "[<matplotlib.lines.Line2D at 0x1812b5b0f60>]"
      ]
     },
     "execution_count": 32,
     "metadata": {},
     "output_type": "execute_result"
    },
    {
     "data": {
      "image/png": "[encoded data removed]",
      "text/plain": [
       "<Figure size 432x288 with 1 Axes>"
      ]
     },
     "metadata": {
      "needs_background": "light"
     },
     "output_type": "display_data"
    }
   ],
   "source": [
    "plt.scatter(df_2['T ratio'], test_pred_full_2, s=1)\n",
    "plt.plot([0,1], [0,1], color='black')\n"
   ]
  },
  {
   "cell_type": "code",
   "execution_count": null,
   "metadata": {},
   "outputs": [],
   "source": []
  }
 ],
 "metadata": {
  "kernelspec": {
   "display_name": "Python 3",
   "language": "python",
   "name": "python3"
  },
  "language_info": {
   "codemirror_mode": {
    "name": "ipython",
    "version": 3
   },
   "file_extension": ".py",
   "mimetype": "text/x-python",
   "name": "python",
   "nbconvert_exporter": "python",
   "pygments_lexer": "ipython3",
   "version": "3.7.3"
  }
 },
 "nbformat": 4,
 "nbformat_minor": 2
}
